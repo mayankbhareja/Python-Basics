{
  "nbformat": 4,
  "nbformat_minor": 0,
  "metadata": {
    "colab": {
      "provenance": []
    },
    "kernelspec": {
      "name": "python3",
      "display_name": "Python 3"
    },
    "language_info": {
      "name": "python"
    }
  },
  "cells": [
    {
      "cell_type": "markdown",
      "source": [
        "Q1. What is Python, and why is it popular ?\n",
        "- Python is an interpreted programming language that we use to interact with the computer by using a set of rules and instructions.\n",
        "\n",
        "- Pyhton is so popular as :\n",
        "  \n",
        "  ~ It is easy to learn and use\n",
        "\n",
        "  ~ It is versatile and powerful\n",
        "\n",
        "  ~ It has a huge community that provides greeat support and knowledge\n",
        "\n",
        "  ~ It has a huge ecosystem of Libraries and Framework\n",
        "\n",
        "  ~ It works Cross-Platform\n",
        "\n",
        "  ~ It is useed by all the big companies to develop their softwares and applications.\n",
        "\n",
        "\n",
        "  Q2. What is an interpreter in Python ?\n",
        "\n",
        "- In Python, an interpreter is the program that reads and executes your Python code line by line. It reads your code line by line, translates it into machine code and executes it immediately.\n",
        "\n",
        "Q3. What are pre-defined keywords in Python ?\n",
        "\n",
        "- Pre-defined keywords in Python are reserved words that have a special meaning to the python interpreter. You can't use them as variable names, function names or identifiers, because they are part of the language syntax.\n",
        "\n",
        "Q4. Can keywords be used as variable names ?\n",
        "\n",
        "- No, we can not use keywords as variable names as keywords are a part of the language syntax.\n",
        "\n",
        "Q5. What is mutability in Python ?\n",
        "\n",
        "- Mutability in Python refers to whether or not an object's value can be changed after it's created. There are two main types:\n",
        "\n",
        "~  Mutable objects\n",
        "\n",
        "You can modify these objects without changing it's identity\n",
        "\n",
        "\n",
        "~ Immutable Objects\n",
        "\n",
        "Once created, can not be altered, if you try to change them, Python will create a new object.\n",
        "\n",
        "Q6. Why are lists mutable but tuples immutable ?\n",
        "\n",
        "- Lists are mutable because they are meant for dynamic data - data that can change, grow, or shrink during programme execution.It is efficient to change parts of list without creating a whole new object.\n",
        "\n",
        "- Tuples are immutable because they are used for fixed values- Values that should not change like co-ordinates, config values and etc. Tuples are smaller in size and faster to access, thanks to their immutability.\n",
        "\n",
        "Q7. What is the difference between \"==\" and \"is\" operators in Pyhton ?\n",
        "\n",
        "- \"==\" or Equality operator is udes to check if two variables have the same value. It looks inside the objects to compare the content.\n",
        "\n",
        "- \"is\" operator is used to check if two variables point to the same object in memory. It compares object identity, not content.\n",
        "\n",
        "Q8. What are logical operators in Pyhton ?\n",
        "\n",
        "- Logical operators in Python are used to combine multiple conditions ( usually boolean expression ) and return a boolean result : True or False.\n",
        "- There are three main logical operators:\n",
        "\n",
        "~ And ( true if both conditions are true )\n",
        "\n",
        "~ Or ( True if at least one is True )\n",
        "\n",
        "~ Not ( Reverse the result )\n",
        "\n",
        "Q9. What is type casting in Python ?\n",
        "\n",
        "- Type Casting in Python means converting one data type to another like turning a string into an integer or a float into a string.\n",
        "\n",
        "\n",
        "Q10. What is the difference between implicit and explicit type casting ?\n",
        "\n",
        "- Implicit Type Casting - It is automatically donee by computer. Python automatically converts one data type to another when needed.\n",
        "\n",
        "- Explicit Type Casting - It is manually done by the developer. The developer intentionally convert a value using built-in functions.\n",
        "\n",
        "Q11. What is the purpose of conditional statements in Python ?\n",
        "\n",
        "- The purpose of conditional statements in Python is to let your programme make decisions based on certain conditions. In simple words, they allow your code to run different blocks of data depending on whether something is True or False.\n",
        "\n",
        "Q12. How does the elif statement work ?\n",
        "\n",
        "- The elif statement stands for ' else if '. It is used to check multiple conditions one by one after the initial if condition fails. Pyhton checks the if condition, if true the block runs and the rest is skipped. If it's false, Python checks the elif statement, if that's also false, the next elif and so on.\n",
        "\n",
        "Q13. What is the difference between for and while loops ?\n",
        "\n",
        "- For loop is used when you know in advance how many times you want to loop.It has fixed iterations and often uses range.\n",
        "\n",
        "- While loop is used when you don't know exactly how many times you'll loop. It keepps going as long as a condition is true.\n",
        "\n",
        "Q14. Describe a scenario where a while loop is more suitable than a for loop.\n",
        "\n",
        "- Scenario : User Input Validaion\n",
        "\n",
        "~ While building a programme that asks the user to enter a password- and you want to keep asking until they enter a correct one. You don't know how many attempts they will take. That's where a while loop fits perfectly.\n",
        "\n"
      ],
      "metadata": {
        "id": "ba3dvnLWPgk0"
      }
    },
    {
      "cell_type": "code",
      "source": [
        "# Write a Python to print \" Hello World\"\n",
        "print(\"Hello World\")"
      ],
      "metadata": {
        "id": "jokpJ80Ub3jF"
      },
      "execution_count": null,
      "outputs": []
    },
    {
      "cell_type": "code",
      "source": [
        "# Write a Python Programme that displays your name and age\n",
        "name = \"Mayank\"\n",
        "age = 22\n",
        "print(\"My name is\", name)\n",
        "print(\"I am\",age,\"years old\")"
      ],
      "metadata": {
        "id": "vI-H8rCQcMnf"
      },
      "execution_count": null,
      "outputs": []
    },
    {
      "cell_type": "code",
      "source": [
        "# Write a code to print all pre-defined keywords in Pyhton using the keyword library\n",
        "import keyword\n",
        "print(\"List of all keywords in Python\")\n",
        "for kw in keyword.kwlist:\n",
        "  print(kw)"
      ],
      "metadata": {
        "id": "B7ZIV919c2hQ"
      },
      "execution_count": null,
      "outputs": []
    },
    {
      "cell_type": "code",
      "source": [
        "# Write a programme to check if given word is a Python Keyword\n",
        "word = input(\"Given Word : \")\n",
        "\n",
        "if keyword.iskeyword(word):\n",
        "  print(\"It is a keyword\")\n",
        "else:\n",
        "  print(\"Not a Keyword\")"
      ],
      "metadata": {
        "id": "uPAAt18nd3hM"
      },
      "execution_count": null,
      "outputs": []
    },
    {
      "cell_type": "code",
      "source": [
        "# Create a list and a tuple in Python, and demonstrate how attempting to change an element works differently for each\n",
        "my_list = [10,20,30,40]\n",
        "my_tuple = (10,20,30,40)\n",
        "print(\"Orignal list : \", my_list)\n",
        "my_list[1] = 99\n",
        "print(\"Modified list: \",my_list)\n",
        "print(\"Orignal Tuple: \",my_tuple)\n",
        "my_tuple[1] = 99\n",
        "print(\"Modified Tuple: \",my_tuple)"
      ],
      "metadata": {
        "id": "eMLV2Gz9fpLI"
      },
      "execution_count": null,
      "outputs": []
    },
    {
      "cell_type": "code",
      "source": [
        "# Write a function to demonstrate the behaviour of mutable and immutable arguments.\n",
        "list = [1,2,3,\"Ajay\"]\n",
        "tuple = (1,2,3,\"Ajay\")\n",
        "print(\"Orignal list : \", list)\n",
        "list[3] = \"Vijay\"\n",
        "print(\"Modified list: \",list)\n",
        "print(\"Orignal Tuple: \",tuple)\n",
        "tuple[3] = \"Vijay\"\n",
        "print(\"Modified Tuple: \",tuple)\n"
      ],
      "metadata": {
        "id": "71mohKkfxdVX"
      },
      "execution_count": null,
      "outputs": []
    },
    {
      "cell_type": "code",
      "source": [
        "# Write a programme that performs basic arithematic operations on two user inputs\n",
        "length = float(input(\"Enter the Length :\"))\n",
        "breadth = float(input(\"Enter the Breadth :\"))\n",
        "area = length * breadth\n",
        "print(\"Area : \", area)"
      ],
      "metadata": {
        "id": "Q7vs9nDYypZp"
      },
      "execution_count": null,
      "outputs": []
    },
    {
      "cell_type": "code",
      "source": [
        "#Write a programme to demonstrate the use of logical operators\n",
        "a = 5\n",
        "b = 3\n",
        "print(\"A and B = \",a and b)\n",
        "print(\"A or B = \", a or b)\n",
        "print(\"Not A = \", not a)"
      ],
      "metadata": {
        "id": "k4O8nY8Az1uk"
      },
      "execution_count": null,
      "outputs": []
    },
    {
      "cell_type": "code",
      "source": [
        "#Write a Python program to convert user input from string to integer, float and boolean types.\n",
        "A = \"5\"\n",
        "print(A , type(A))\n",
        "A = int(A)\n",
        "print(A,type(A))\n",
        "A = float(A)\n",
        "print(A, type(A))\n",
        "A = bool(A)\n",
        "print(A, type(A))"
      ],
      "metadata": {
        "id": "MZMD1yYy0uzj"
      },
      "execution_count": null,
      "outputs": []
    },
    {
      "cell_type": "code",
      "source": [
        "# Write code to demonstrate type casting with list elements.\n",
        "x = [1,2,3,4]\n",
        "print(x[2], type(x[2]))\n",
        "x[2] = float(x[2])\n",
        "print(x[2], type(x[2]))\n",
        "print(x,type(x))\n",
        "x = bool(x)\n",
        "print(x,type(x))\n"
      ],
      "metadata": {
        "id": "9EHHDmXa11nm"
      },
      "execution_count": null,
      "outputs": []
    },
    {
      "cell_type": "code",
      "source": [
        "# Write a program that checks if number is postive, negative or zero\n",
        "x = int(input(\"Enter a Number :\"))\n",
        "if x < 0:\n",
        "  print(\"The number is Negative\")\n",
        "elif x == 0:\n",
        "  print(\"The number is Zero\")\n",
        "else:\n",
        "  print(\"The number is Positive\")\n"
      ],
      "metadata": {
        "id": "SnopoNxs28hu"
      },
      "execution_count": null,
      "outputs": []
    },
    {
      "cell_type": "code",
      "source": [
        "# Write a for loop to print numbers from 1 to 10\n",
        "numbers = [1,2,3,4,5,6,7,8,9,10]\n",
        "for num in numbers:\n",
        "  print(num)"
      ],
      "metadata": {
        "id": "fDSfIRqM312T"
      },
      "execution_count": null,
      "outputs": []
    },
    {
      "cell_type": "code",
      "source": [
        "# Write a python program to find the sum of all even numbers between 1 and 50\n",
        "total = 0\n",
        "for i in range(2,51,2):\n",
        "  total += i\n",
        "print(total)"
      ],
      "metadata": {
        "id": "gOlgsEhz5HAv"
      },
      "execution_count": null,
      "outputs": []
    },
    {
      "cell_type": "code",
      "source": [
        "# Write a program to reverse a string using a while loop\n",
        "text = input(\"Enter a String : \")\n",
        "reversed_text=\"\"\n",
        "index = len(text) -1\n",
        "while index >= 0:\n",
        "  reversed_text += text[index]\n",
        "  index -= 1\n",
        "print(\"Reversed String : \", reversed_text)"
      ],
      "metadata": {
        "id": "z5ge647K58sk"
      },
      "execution_count": null,
      "outputs": []
    },
    {
      "cell_type": "code",
      "source": [
        "# Write a Python program to calculate the factorial of a number provided by user using a while loop.\n",
        "num = int(input(\"Enter your Number : \"))\n",
        "factorial = 1\n",
        "while num > 0:\n",
        "  factorial *= num\n",
        "  num -= 1\n",
        "print(\"Factorial : \", factorial)"
      ],
      "metadata": {
        "id": "c0AVkyTv7Pdq"
      },
      "execution_count": null,
      "outputs": []
    }
  ]
}